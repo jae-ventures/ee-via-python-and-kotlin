{
 "cells": [
  {
   "cell_type": "markdown",
   "metadata": {},
   "source": [
    "# Week 1: Introduction to Electrical Engineering"
   ]
  },
  {
   "cell_type": "markdown",
   "metadata": {},
   "source": [
    "## Overview of Electrical Engineering\n",
    "In this lesson, you'll gain a broad understanding of what electrical engineering is and its significance in various applications. Here are some readings and videos for you to review\n",
    "### Readings:\n",
    "1. **Chapter 1 of \"Practical Electronics for Inventors\":** Read Chapter 1, which covers the basics of electricity, voltage, current, and resistance. This chapter provides a strong foundation for understanding electrical engineering concepts.\n",
    "\n",
    "2. **MIT OpenCourseWare - Introduction to Electrical Engineering:** Review the introductory material on MIT OCW's \"Introduction to Electrical Engineering\" course. This material includes lecture notes, syllabus, and reading assignments.\n",
    "\n",
    "MIT OCW - Introduction to Electrical Engineering\n",
    "\n",
    "### Videos:\n",
    "1. **\"What Is Electrical Engineering?\" (YouTube Video):** Watch the following videos to get an overview of the field of electrical engineering, its history, and its role in various industries.\n",
    "- [What Can You Do as an Electrical Engineer](https://youtu.be/M6oXZUtyCJ4?si=QUjb5M3HyRfe-6Hc)\n",
    "- [Crash Course](https://youtu.be/ePVs-0fuSA8?si=H50XIe57rvw2zpkX)\n",
    "2. **\"Electrical Engineering Basics\" (YouTube Playlist):** This playlist provides a series of videos covering fundamental electrical engineering concepts, including voltage, current, and resistance.\n",
    "- [Electrical Engineering Basics](https://youtube.com/playlist?list=PLWv9VM947MKi_7yJ0_FCfzTBXpQU-Qd3K&si=C3e44dxq--9qEsFa)\n",
    "\n",
    "### Homwork Problems (in Kotlin)\n",
    "Now, let's apply what you've learned by solving some homework problems in Kotlin. These problems will test your understanding of the basic concepts of electricity. Here are three problems for you to work on:\n",
    "\n",
    "**Problem 1: Calculate Resistance**  \n",
    "Write a Kotlin program that calculates the resistance (in ohms) of a resistor using Ohm's law. The program should take the voltage (V) and current (I) as inputs and calculate the resistance (R). Use the formula: R = V / I.\n",
    "\n",
    "**Problem 2: Power Consumption**  \n",
    "Create a Kotlin program that calculates the power consumed by an electrical device. Take the voltage (V) and current (I) as inputs, and calculate the power (P) in watts. Use the formula: P = V * I.\n",
    "\n",
    "**Problem 3: Series and Parallel Resistors**  \n",
    "Write a Kotlin program that calculates the equivalent resistance of resistors connected in series and in parallel. The program should take a list of resistor values and their connection type as input and output the equivalent resistance. You can use the formulas for series and parallel resistors:\n",
    "\n",
    "For series resistors: Req = R1 + R2 + R3 + ...\n",
    "For parallel resistors: 1 / Req = 1 / R1 + 1 / R2 + ..."
   ]
  },
  {
   "cell_type": "code",
   "execution_count": null,
   "metadata": {},
   "outputs": [],
   "source": []
  },
  {
   "cell_type": "markdown",
   "metadata": {},
   "source": [
    "## Notes\n",
    "### Chapter 1 of \"Practical Electronics for Inventors\"\n"
   ]
  }
 ],
 "metadata": {
  "kernelspec": {
   "display_name": "Kotlin",
   "language": "kotlin",
   "name": "kotlin"
  },
  "language_info": {
   "name": "kotlin"
  }
 },
 "nbformat": 4,
 "nbformat_minor": 2
}
